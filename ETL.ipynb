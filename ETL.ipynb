{
 "cells": [
  {
   "cell_type": "code",
   "execution_count": null,
   "id": "6dc14346",
   "metadata": {},
   "outputs": [],
   "source": [
    "import pandas as pd\n",
    "from sqlalchemy import create_engine\n",
    "from config import protocol, username, password, host, port"
   ]
  },
  {
   "cell_type": "markdown",
   "id": "387019b2",
   "metadata": {},
   "source": [
    "## Extract CSV's inot Dataframes"
   ]
  },
  {
   "cell_type": "code",
   "execution_count": null,
   "id": "05212c33",
   "metadata": {},
   "outputs": [],
   "source": [
    "zips = \"Resources/uszips.csv\"\n",
    "tax = \"Resources/tax_info.csv\""
   ]
  },
  {
   "cell_type": "code",
   "execution_count": null,
   "id": "c9bb3bcc",
   "metadata": {},
   "outputs": [],
   "source": [
    "zipcode_df = pd.read_csv(zips)\n",
    "zipcode_df.head()"
   ]
  },
  {
   "cell_type": "code",
   "execution_count": null,
   "id": "311f0187",
   "metadata": {},
   "outputs": [],
   "source": [
    "tax_df = pd.read_csv(tax)\n",
    "tax_df.head()"
   ]
  },
  {
   "cell_type": "markdown",
   "id": "ae047626",
   "metadata": {},
   "source": [
    "## Transform Data"
   ]
  },
  {
   "cell_type": "code",
   "execution_count": null,
   "id": "c63801c7",
   "metadata": {},
   "outputs": [],
   "source": [
    "zipcode_cols = [\"zip\", \"state_name\", \"city\", \"population\", \"density\"]\n",
    "zipcode_transformed = zipcode_df[zipcode_cols].copy()\n",
    "\n",
    "#rename columns headers\n",
    "zipcode_transformed = zipcode_transformed.rename(columns ={'zip': \"zip_code\",\n",
    "                                                            \"state_name\": \"state\",\n",
    "                                                            \"city\": \"city\",\n",
    "                                                            \"population\":\"population\",\n",
    "                                                            \"density\":\"population_density\"})\n",
    "\n",
    "zipcode_transformed.drop_duplicates\n",
    "# zipcode_transformed.set_index('zip', inplace=True)\n",
    "\n",
    "zipcode_transformed.head()"
   ]
  },
  {
   "cell_type": "code",
   "execution_count": null,
   "id": "988492cd",
   "metadata": {},
   "outputs": [],
   "source": [
    "tax_df = tax_df[[\"STATE\", \"zipcode\", \"A00100\", \"agi_stub\"]]\n",
    "#A00100\n",
    "tax_df"
   ]
  },
  {
   "cell_type": "code",
   "execution_count": null,
   "id": "74d8d4ee",
   "metadata": {},
   "outputs": [],
   "source": [
    "tax_cols = [\"STATE\", \"zipcode\", \"A00100\", \"agi_stub\"]\n",
    "tax_transformed = tax_df[tax_cols].copy()\n",
    "\n",
    "#rename columns headers\n",
    "tax_transformed = tax_transformed.rename(columns ={\"STATE\": \"state\",\n",
    "                                                            \"zipcode\": \"zip_code\",\n",
    "                                                            \"A00100\":\"adjusted_gross_income\",\n",
    "                                                               \"agi_stub\": 'tax_bracket'\n",
    "                                                            })\n",
    "\n",
    "tax_transformed.drop_duplicates\n",
    "\n",
    "tax_transformed.head()"
   ]
  },
  {
   "cell_type": "code",
   "execution_count": null,
   "id": "c35b279d",
   "metadata": {},
   "outputs": [],
   "source": [
    "tax_transformed = tax_transformed.loc[tax_transformed['zip_code'] != 0]\n",
    "tax_transformed.reset_index(inplace=True, drop=True)\n",
    "tax_transformed"
   ]
  },
  {
   "cell_type": "markdown",
   "id": "da9cf9cb",
   "metadata": {},
   "source": [
    "## Database Conection"
   ]
  },
  {
   "cell_type": "code",
   "execution_count": null,
   "id": "f6845a97",
   "metadata": {},
   "outputs": [],
   "source": [
    "database_name = 'tax_db'\n",
    "rds_connection_string = f'{protocol}://{username}:{password}@{host}:{port}/{database_name}'\n",
    "engine = create_engine(rds_connection_string)"
   ]
  },
  {
   "cell_type": "code",
   "execution_count": null,
   "id": "b7544941",
   "metadata": {},
   "outputs": [],
   "source": [
    "engine.table_names()"
   ]
  },
  {
   "cell_type": "code",
   "execution_count": null,
   "id": "9ebb90bd",
   "metadata": {},
   "outputs": [],
   "source": [
    "zipcode_transformed.to_sql(name='us_zips', con=engine, if_exists='append', index=False)"
   ]
  },
  {
   "cell_type": "code",
   "execution_count": null,
   "id": "82827cd1",
   "metadata": {},
   "outputs": [],
   "source": [
    "tax_transformed.to_sql(name='tax_info', con=engine, if_exists='append', index=False)"
   ]
  },
  {
   "cell_type": "code",
   "execution_count": null,
   "id": "cf2ad608",
   "metadata": {},
   "outputs": [],
   "source": []
  },
  {
   "cell_type": "code",
   "execution_count": null,
   "id": "a3eef593",
   "metadata": {},
   "outputs": [],
   "source": []
  },
  {
   "cell_type": "code",
   "execution_count": null,
   "id": "b3d785fb",
   "metadata": {},
   "outputs": [],
   "source": []
  },
  {
   "cell_type": "code",
   "execution_count": null,
   "id": "948a8aad",
   "metadata": {},
   "outputs": [],
   "source": []
  },
  {
   "cell_type": "code",
   "execution_count": null,
   "id": "29a7c05c",
   "metadata": {},
   "outputs": [],
   "source": []
  }
 ],
 "metadata": {
  "kernelspec": {
   "display_name": "Python 3 (ipykernel)",
   "language": "python",
   "name": "python3"
  },
  "language_info": {
   "codemirror_mode": {
    "name": "ipython",
    "version": 3
   },
   "file_extension": ".py",
   "mimetype": "text/x-python",
   "name": "python",
   "nbconvert_exporter": "python",
   "pygments_lexer": "ipython3",
   "version": "3.8.12"
  }
 },
 "nbformat": 4,
 "nbformat_minor": 5
}
